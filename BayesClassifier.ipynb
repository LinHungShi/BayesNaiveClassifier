{
 "cells": [
  {
   "cell_type": "code",
   "execution_count": 37,
   "metadata": {
    "collapsed": false
   },
   "outputs": [],
   "source": [
    "import pandas as pd\n",
    "import numpy as np\n",
    "from matplotlib import pyplot as plt\n",
    "import scipy\n",
    "import math\n",
    "from scipy import special as sl\n",
    "from scipy.stats import t\n",
    "%matplotlib inline\n",
    "np.set_printoptions(threshold=np.inf)"
   ]
  },
  {
   "cell_type": "code",
   "execution_count": 237,
   "metadata": {
    "collapsed": false
   },
   "outputs": [],
   "source": [
    "df_Xtrain = pd.read_csv(\"hw1_data_csv/Xtrain.csv\",header=None)\n",
    "df_Xtest = pd.read_csv(\"hw1_data_csv/Xtest.csv\",header=None)\n",
    "df_Ytrain = pd.read_csv(\"hw1_data_csv/Ytrain.csv\",header=None)\n",
    "df_Ytest = pd.read_csv(\"hw1_data_csv/Ytest.csv\",header=None)\n",
    "df_Q = pd.read_csv(\"hw1_data_csv/Q.csv\",header=None)"
   ]
  },
  {
   "cell_type": "code",
   "execution_count": 238,
   "metadata": {
    "collapsed": false
   },
   "outputs": [],
   "source": [
    "Xtrain = np.array(df_Xtrain)\n",
    "Xtest = np.array(df_Xtest)\n",
    "ytrain = np.array(df_Ytrain)\n",
    "ytest = np.array(df_Ytest)\n",
    "Q = np.array(df_Q)"
   ]
  },
  {
   "cell_type": "code",
   "execution_count": 307,
   "metadata": {
    "collapsed": false
   },
   "outputs": [
    {
     "name": "stdout",
     "output_type": "stream",
     "text": [
      "average of x 0 [ 0.4455985  -0.6368184  -0.27501224  0.40989885 -0.57246175 -0.45723015\n",
      " -0.08095978  0.17310262 -0.3362725   0.05228502  0.12688421 -0.1085274\n",
      "  0.05359305  0.05287704 -0.030762  ]\n",
      "s of 0 [ 4.54732253  3.4309912   2.55479583  1.93133117  1.65673526  1.68219588\n",
      "  1.59791309  1.4718395   0.98368962  1.19604807  1.12226742  0.78738727\n",
      "  0.79565556  0.55545885  0.64098163]\n",
      "alpha0 2922.0\n",
      "beta0 [ 13283.82838039  10023.12803774   7463.59642087   5642.50235326\n",
      "   4840.4875082    4914.79869128   4668.50741339   4300.2581727\n",
      "   2874.41391072   3494.65778374   3279.15118287   2300.96410151\n",
      "   2325.11132466   1623.49669993   1873.30780338]\n",
      "lambda0 [  3.76397516e-05   4.98846266e-05   6.69918323e-05   8.86131664e-05\n",
      "   1.03295381e-04   1.01733567e-04   1.07100612e-04   1.16272089e-04\n",
      "   1.73948504e-04   1.43075526e-04   1.52478484e-04   2.17300218e-04\n",
      "   2.15043467e-04   3.07977220e-04   2.66907552e-04]\n",
      "[[946  36]\n",
      " [114 895]]\n"
     ]
    }
   ],
   "source": [
    "\n",
    "alpha1 = 1 + N1/2.0\n",
    "alpha0 = 1 + N0/2.0\n",
    "beta1 = 1 + 0.5 * np.var(Xtrain1,0) * N1 + 0.5 * N1/(1+N1) * (np.average(Xtrain1,0) ** 2)\n",
    "beta0 = 1 + 0.5 * np.var(Xtrain0,0) * N0 + 0.5 * N0/(1+N0) * (np.average(Xtrain0,0) ** 2)\n",
    "print \"average of x 0\", np.average(Xtrain0,0)\n",
    "print \"s of 0\", np.var(Xtrain0,0)\n",
    "eta1 = np.average(Xtrain1,0) * N1/(1+N1)\n",
    "eta0 = np.average(Xtrain0,0) * N0/(1+N0)\n",
    "lambda1 = 1.0 / (1+N1+1) * alpha1 / beta1\n",
    "lambda0 = 1.0 / (1+N0+1) * alpha0 / beta0\n",
    "N_test = Xtest.shape[0]\n",
    "pred = np.zeros(N_test)\n",
    "'''print \"N1\", N1\n",
    "print \"N0\", N0\n",
    "print \"alpha1\", alpha1\n",
    "print \"beta1\", beta1\n",
    "print \"lambda1\", lambda1'''\n",
    "print \"alpha0\", alpha0\n",
    "print \"beta0\", beta0\n",
    "print \"lambda0\", lambda0\n",
    "\n",
    "obs = N_test\n",
    "for i in range(obs):\n",
    "    x = Xtest[i,:]\n",
    "    z1 = (x - eta1) * (lambda1 ** 0.5)\n",
    "    z0 = (x - eta0) * (lambda0 ** 0.5)\n",
    "    #print \"z1\", z1\n",
    "    #print \"z0\", z0\n",
    "    st1 = t.pdf(z1, 2 * alpha1)\n",
    "    st0 = t.pdf(z0, 2 * alpha0)\n",
    "    st1_total = np.cumprod(st1)[st1.size - 1]\n",
    "    st0_total = np.cumprod(st0)[st0.size - 1]\n",
    "    pystar1 = (1 + N1) / (N1+1.0+1.0)\n",
    "    pystar0 = (1 + N0) / (N0+1.0+1.0)\n",
    "    pred1 = st1_total * pystar1\n",
    "    pred0 = st0_total * pystar0\n",
    "    pred[i] = int(pred1 > pred0)\n",
    "    #print \"lambda1\", lambda1\n",
    "    #print \"lambda0\", lambda0\n",
    "    #print \"x\", x\n",
    "    #print \"eta0\", eta0\n",
    "    #print \"lambda0\", lambda0\n",
    "    #print \"z0\", z0\n",
    "    #print \"pred0\", pred0\n",
    "    #print \"pred1\", pred1\n",
    "    #print pystar1\n",
    "    #print pystar0\n",
    "conf_mat = np.zeros((2,2), dtype = int)\n",
    "for i in range(obs):\n",
    "        if ytest[i] == pred[i] and ytest[i] == 0:\n",
    "            conf_mat[0,0] = conf_mat[0,0] + 1\n",
    "        elif ytest[i] == pred[i] and ytest[i] == 1:\n",
    "            conf_mat[1,1] = conf_mat[1,1] + 1\n",
    "        elif ytest[i] != pred[i] and ytest[i] == 0:\n",
    "            conf_mat[0,1] = conf_mat[0,1] + 1\n",
    "        else:\n",
    "            conf_mat[1,0] = conf_mat[1,0] + 1\n",
    "print conf_mat"
   ]
  },
  {
   "cell_type": "code",
   "execution_count": 305,
   "metadata": {
    "collapsed": false
   },
   "outputs": [
    {
     "name": "stdout",
     "output_type": "stream",
     "text": [
      "confusion matrix(left:ground truth, upper: predicted value): \n",
      "[[957  25]\n",
      " [146 863]]\n",
      "Upper: Miss Classified Digits\n",
      "Lower: The most ambiguous Digits\n"
     ]
    },
    {
     "data": {
      "image/png": "[encoded data removed]",
      "text/plain": [
       "<matplotlib.figure.Figure at 0x1179b7110>"
      ]
     },
     "metadata": {},
     "output_type": "display_data"
    },
    {
     "data": {
      "image/png": "[encoded data removed]",
      "text/plain": [
       "<matplotlib.figure.Figure at 0x1187e1090>"
      ]
     },
     "metadata": {},
     "output_type": "display_data"
    }
   ],
   "source": [
    "a = 1\n",
    "b = 1\n",
    "e = 1\n",
    "f = 1\n",
    "num_miss = 3\n",
    "num_ambig = 3\n",
    "mu = np.zeros(Xtrain.shape[1])\n",
    "c = np.ones(Xtrain.shape[1])\n",
    "hw1(Xtest, ytest,Xtrain, ytrain, mu,a, b, c, e, f, num_miss, num_ambig)"
   ]
  },
  {
   "cell_type": "code",
   "execution_count": 304,
   "metadata": {
    "collapsed": false
   },
   "outputs": [],
   "source": [
    "def hw1(Xtest,ytest, Xtrain, ytrain, mu, a, b, c, e, f, num_miss, num_ambig):\n",
    "    pred = Predict(Xtest, Xtrain, ytrain, mu,a, b, c, e, f)\n",
    "    tmp = computeConfMisAmbig(ytest, pred['predict'], pred['probability'], num_miss, num_ambig);\n",
    "    miss = tmp['miss']\n",
    "    ambig = tmp['ambig']\n",
    "    conf_mat = tmp['conf']\n",
    "    print 'confusion matrix(left:ground truth, upper: predicted value): '\n",
    "    print conf_mat\n",
    "    X_miss = np.dot(Q, Xtest[miss,:].T)\n",
    "    X_ambig = np.dot(Q, Xtest[ambig,:].T)\n",
    "    plotMissAndAmbig(X_miss, X_ambig);\n",
    "    \n",
    "def Predict(Xtest, Xtrain, ytrain, mu, a, b, c, e, f):\n",
    "    obs = Xtest.shape[0]\n",
    "    ytest_prob_ = np.zeros((obs, 2))\n",
    "    ytest_predict_ = np.zeros(obs,dtype = int)\n",
    "    params_ = {}\n",
    "    params_['zero'] = getParam(0, Xtrain, ytrain, mu, a, b, c)\n",
    "    params_['one']= getParam(1, Xtrain, ytrain, mu, a, b, c)\n",
    "    #print \"k1\", params_['one']['k']\n",
    "    #print \"k0\", params_['zero']['k']\n",
    "    py_ = {}\n",
    "    py_['zero'] = computeYProb(0, ytrain, e, f)\n",
    "    py_['one'] = computeYProb(1, ytrain, e, f)\n",
    "    \n",
    "    for i in range(obs):\n",
    "        px_zero_ = computeXProb(Xtest[i], params_['zero'])\n",
    "        px_one_ = computeXProb(Xtest[i], params_['one'])\n",
    "        ytest_prob_[i,0] = px_zero_ * py_['zero']\n",
    "        ytest_prob_[i,1] = px_one_ * py_['one']\n",
    "        ytest_predict_[i] = ytest_prob_[i,1] >= ytest_prob_[i,0]\n",
    "        #print \"px:one\", px_one_\n",
    "        #print \"px:zero\", px_zero_\n",
    "        #print \"py_one\", py_['one']\n",
    "        #print \"py_zero\", py_['zero']\n",
    "        #print \"y_test_prob0\", ytest_prob_[i,0]\n",
    "        #print \"y_test_prob1\", ytest_prob_[i,1]\n",
    "        #print \"pred\", ytest_predict_[i]\n",
    "    result = {}\n",
    "    result['probability'] = ytest_prob_\n",
    "    result['predict'] = ytest_predict_\n",
    "    return result\n",
    "def getParam(y, Xtrain, ytrain, mu, a, b, c):\n",
    "    mu_n = copy.copy(mu)\n",
    "    a_n = copy.copy(a)\n",
    "    b_n = copy.copy(b)\n",
    "    c_n = copy.copy(c)\n",
    "    index = np.empty(0, dtype = int)\n",
    "    obs = Xtrain.shape[0]\n",
    "    for i in range(obs):\n",
    "        if ytrain[i] == y:\n",
    "            index = np.append(index, i)\n",
    "    num_fit = index.size\n",
    "    a_n = a + num_fit\n",
    "    b_n = b + (num_fit / 2.0)\n",
    "    #print \"num_fit\", num_fit\n",
    "    X_sel = Xtrain[index, :]\n",
    "    X_ave = np.average(X_sel, 0)\n",
    "    dim = mu.size\n",
    "    for j in range(dim):\n",
    "        mu_n[j] = (X_ave[j] * num_fit) / (a + num_fit)\n",
    "    S = np.average((X_sel - X_ave)**2, 0)\n",
    "    beta1 = 1 + 0.5 * np.var(Xtrain1,0) * N1 + 0.5 * N1/(1+N1) * (np.average(Xtrain1,0) ** 2)\n",
    "    #print \"average of x0\", X_ave\n",
    "    c_n = c + num_fit * S * 0.5  + 0.5 * (num_fit * (X_ave**2)) / (a + num_fit)\n",
    "    _v = 2.0 * b_n\n",
    "    _k = b_n / c_n * (a_n + 1) / a_n \n",
    "    \n",
    "    #print \"an\", a_n\n",
    "    #print \"bn\", b_n\n",
    "    #print \"cn\", c_n\n",
    "    #print \"mu\", mu\n",
    "    #print \"k\", _k\n",
    "    return {'v':_v, 'k':_k, 'mu':mu_n}\n",
    "\n",
    "def computeXProb(x, param):\n",
    "    v = param['v']\n",
    "    k = param['k']\n",
    "    mu = param['mu']\n",
    "  \n",
    "    ##p = (1 + (k / v) * (x - mu)**2)**((-v/2) - 1/2) * math.exp(sl.gammaln(v/2 + 1/2) - sl.gammaln(v/2)) * (k/(scipy.pi*v))**(1/2)\n",
    "    #print \"v:\", v\n",
    "    #print \"k:\", k\n",
    "    #print \"mu\", mu\n",
    "    z = (x - mu) * (k ** 0.5)\n",
    "    #print \"x\", x\n",
    "    #print \"mu\", mu\n",
    "    #print \"k\",k\n",
    "    #print \"z\", z\n",
    "    p = t.pdf(z, v)\n",
    "    total_p = np.cumprod(p)[p.size-1]\n",
    "    return total_p\n",
    "def computeYProb(y, ytrain, e, f):\n",
    "    num_fit = 0;\n",
    "    obs = ytrain.size\n",
    "    for j in range(obs):\n",
    "        if ytrain[j] == y:\n",
    "            num_fit = num_fit + 1\n",
    "    if y == 1:\n",
    "        p = float((e + num_fit)) / (num_fit + e + f)\n",
    "    else:\n",
    "        p = float((f + num_fit)) / (num_fit + e + f)\n",
    "    return p\n",
    "\n",
    "def computeConfMisAmbig(ytest, ypred, yprob, num_miss, num_ambig):\n",
    "    conf_mat = np.zeros((2,2), dtype = int)\n",
    "    miss = np.empty(0,dtype=int)\n",
    "    ambig = np.empty(0,dtype=int)\n",
    "    obs = ytest.size\n",
    "    for i in range(obs):\n",
    "        if ytest[i] == ypred[i] and ytest[i] == 0:\n",
    "            conf_mat[0,0] = conf_mat[0,0] + 1\n",
    "        elif ytest[i] == ypred[i] and ytest[i] == 1:\n",
    "            conf_mat[1,1] = conf_mat[1,1] + 1\n",
    "        elif ytest[i] != ypred[i] and ytest[i] == 0:\n",
    "            conf_mat[0,1] = conf_mat[0,1] + 1\n",
    "            if (miss.size < num_miss):\n",
    "                miss = np.append(miss, i)\n",
    "        else:\n",
    "            conf_mat[1,0] = conf_mat[1,0] + 1\n",
    "            if (miss.size < num_miss):\n",
    "                miss = np.append(miss, i)\n",
    "    for j in range(num_ambig):\n",
    "        min_ind = abs((yprob[:,0] - 0.5)).argmin()\n",
    "        ambig = np.append(ambig, min_ind);\n",
    "        yprob[min_ind] = yprob[min_ind,0] + 1\n",
    "    result = {'conf':conf_mat, 'ambig':ambig, 'miss':miss}\n",
    "    return result\n",
    "\n",
    "    \n",
    "def plotMissAndAmbig(M, A):\n",
    "    num_m = M.shape[1]\n",
    "    num_A = A.shape[1]\n",
    "    plt.figure();\n",
    "    print 'Upper: Miss Classified Digits'\n",
    "    for i in range(num_m):\n",
    "        plt.subplot(1,num_m,i+1)\n",
    "        plt.imshow(M[:,i].reshape(28,28), cmap = 'gray')\n",
    "    plt.figure()\n",
    "    print 'Lower: The most ambiguous Digits'\n",
    "    for i in range(num_A):\n",
    "        plt.subplot(1,num_A,i+1)\n",
    "        plt.imshow(A[:,i].reshape(28,28), cmap ='gray')    "
   ]
  },
  {
   "cell_type": "code",
   "execution_count": 6,
   "metadata": {
    "collapsed": false
   },
   "outputs": [
    {
     "name": "stdout",
     "output_type": "stream",
     "text": [
      "5949\n",
      "5842\n",
      "(5949, 15)\n",
      "(5842, 15)\n"
     ]
    }
   ],
   "source": [
    "Xtrain1 = Xtrain[(ytrain==1).flatten()]\n",
    "Xtrain0 = Xtrain[(ytrain == 0).flatten()]\n",
    "N = Xtrain.shape[0]\n",
    "N1 = np.sum(1&ytrain)\n",
    "N0 = np.sum(1&~ytrain)\n",
    "print N1\n",
    "print N0\n",
    "print Xtrain1.shape\n",
    "print Xtrain0.shape"
   ]
  },
  {
   "cell_type": "code",
   "execution_count": 88,
   "metadata": {
    "collapsed": false
   },
   "outputs": [
    {
     "name": "stdout",
     "output_type": "stream",
     "text": [
      "eta0 [ 0.44552224 -0.63670941 -0.27496518  0.4098287  -0.57236378 -0.4571519\n",
      " -0.08094593  0.17307299 -0.33621495  0.05227608  0.1268625  -0.10850883\n",
      "  0.05358387  0.05286799 -0.03075673]\n",
      "lambda0 [  3.76397516e-05   4.98846266e-05   6.69918323e-05   8.86131664e-05\n",
      "   1.03295381e-04   1.01733567e-04   1.07100612e-04   1.16272089e-04\n",
      "   1.73948504e-04   1.43075526e-04   1.52478484e-04   2.17300218e-04\n",
      "   2.15043467e-04   3.07977220e-04   2.66907552e-04]\n",
      "z0 [ 0.02035805 -0.00201752 -0.00209127  0.00774889 -0.00148504  0.01999259\n",
      " -0.01341175 -0.0185906   0.00206361 -0.01437973 -0.00301818 -0.02109882\n",
      "  0.00423046 -0.01154722  0.0015805 ]\n",
      "[[  9.81000000e+02   1.00000000e+00]\n",
      " [  1.00900000e+03   0.00000000e+00]]\n"
     ]
    }
   ],
   "source": []
  },
  {
   "cell_type": "code",
   "execution_count": 160,
   "metadata": {
    "collapsed": false
   },
   "outputs": [
    {
     "name": "stdout",
     "output_type": "stream",
     "text": [
      "[ 1 10  3]\n"
     ]
    }
   ],
   "source": [
    "import copy\n",
    "x = np.array([1,2,3])\n",
    "y = x\n",
    "y[1] = 10\n",
    "print x"
   ]
  }
 ],
 "metadata": {
  "kernelspec": {
   "display_name": "Python 2",
   "language": "python",
   "name": "python2"
  },
  "language_info": {
   "codemirror_mode": {
    "name": "ipython",
    "version": 2
   },
   "file_extension": ".py",
   "mimetype": "text/x-python",
   "name": "python",
   "nbconvert_exporter": "python",
   "pygments_lexer": "ipython2",
   "version": "2.7.12"
  }
 },
 "nbformat": 4,
 "nbformat_minor": 0
}
